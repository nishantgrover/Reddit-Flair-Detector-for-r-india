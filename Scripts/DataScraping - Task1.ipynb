{
 "cells": [
  {
   "cell_type": "markdown",
   "metadata": {},
   "source": [
    "## Importing Dependencies for Creating a Reddit Instance"
   ]
  },
  {
   "cell_type": "code",
   "execution_count": 1,
   "metadata": {},
   "outputs": [],
   "source": [
    "# Importing praw library as it is a Python wrapper for the Reddit API, which enables you to scrape data from subreddits\n",
    "import praw\n",
    "import pandas as pd\n",
    "\n",
    "# Creating a reddit instance and providing my client_id, client_secret, user_agent\n",
    "reddit = praw.Reddit(client_id='client_id', client_secret='client_secret', user_agent='user_agent')\n",
    "\n",
    "# r/India subreddit selection\n",
    "r_india = reddit.subreddit('india')\n",
    "\n",
    "# List of the flairs that occur frequently\n",
    "flairsList = ['AMA', 'AskIndia', 'Business/Finance', 'Coronavirus', 'Food', 'Non-Political', 'Photography', 'Policy/Economy', 'Politics', 'Scheduled', 'Science/Technology', 'Sports', '[R]eddiquette']"
   ]
  },
  {
   "cell_type": "markdown",
   "metadata": {},
   "source": [
    "## Extracting the Reddit Posts"
   ]
  },
  {
   "cell_type": "code",
   "execution_count": 2,
   "metadata": {
    "scrolled": true
   },
   "outputs": [
    {
     "name": "stdout",
     "output_type": "stream",
     "text": [
      "current flair AMA\n",
      "current flair AskIndia\n",
      "current flair Business/Finance\n",
      "current flair Coronavirus\n",
      "current flair Food\n",
      "current flair Non-Political\n",
      "current flair Photography\n",
      "current flair Policy/Economy\n",
      "current flair Politics\n",
      "current flair Scheduled\n",
      "current flair Science/Technology\n",
      "current flair Sports\n",
      "current flair [R]eddiquette\n"
     ]
    }
   ],
   "source": [
    "# User defined DataType for Posts\n",
    "allPosts = {\n",
    "    'author':[],\n",
    "    'body':[],\n",
    "    'comments':[],\n",
    "    'commentsNumber':[],\n",
    "    'created':[],\n",
    "    'flair':[],\n",
    "    'upvotes':[],\n",
    "    'submission':[],\n",
    "    'time':[],\n",
    "    'title':[],\n",
    "    'url':[]\n",
    "}\n",
    "\n",
    "# For every flair in the List of Flairs considered, extracting the data\n",
    "for flair in flairsList:\n",
    "    print(\"current flair\",flair)\n",
    "    # Searching the subreddit flair by flair and extracting data for each flair in order to use the data later to train the model\n",
    "    # Extracting 120 posts for each flair\n",
    "    Posts = list(r_india.search(f'flair:\"{flair}\"',limit=200))\n",
    "    # Taking each post and adding into template\n",
    "    for post in Posts:\n",
    "        allPosts['author'].append(post.author)\n",
    "        allPosts['body'].append(post.selftext)\n",
    "        allPosts['commentsNumber'].append(post.num_comments)\n",
    "        allPosts['created'].append(post.created)\n",
    "        allPosts['flair'].append(flair)\n",
    "        allPosts['upvotes'].append(post.score)\n",
    "        allPosts['submission'].append(post)\n",
    "        allPosts['time'].append(post.created_utc)\n",
    "        allPosts['title'].append(post.title)\n",
    "        allPosts['url'].append(post.url)\n",
    "        temp=\"\"\n",
    "        count=0\n",
    "        post.comments.replace_more(limit=0)\n",
    "        # Considering only the content of the top 20 comments\n",
    "        for eachComment in post.comments:\n",
    "            temp+=\" \"+str(eachComment.body)\n",
    "            count+=1\n",
    "            if(count>20):\n",
    "                break\n",
    "        # Adding the top 20 comments into dictionary\n",
    "        allPosts['comments'].append(temp)\n"
   ]
  },
  {
   "cell_type": "markdown",
   "metadata": {},
   "source": [
    "## Saving the extracted data into a csv"
   ]
  },
  {
   "cell_type": "code",
   "execution_count": 3,
   "metadata": {},
   "outputs": [],
   "source": [
    "# Putting the data into a csv file\n",
    "data = pd.DataFrame(allPosts)\n",
    "data.to_csv('../Data/scrapedData.csv', index=False)"
   ]
  }
 ],
 "metadata": {
  "kernelspec": {
   "display_name": "Python 3",
   "language": "python",
   "name": "python3"
  },
  "language_info": {
   "codemirror_mode": {
    "name": "ipython",
    "version": 3
   },
   "file_extension": ".py",
   "mimetype": "text/x-python",
   "name": "python",
   "nbconvert_exporter": "python",
   "pygments_lexer": "ipython3",
   "version": "3.6.9"
  }
 },
 "nbformat": 4,
 "nbformat_minor": 4
}
